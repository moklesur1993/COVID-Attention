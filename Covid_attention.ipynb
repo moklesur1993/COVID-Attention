{
  "nbformat": 4,
  "nbformat_minor": 0,
  "metadata": {
    "colab": {
      "name": "Covid_attention.ipynb",
      "provenance": [],
      "collapsed_sections": []
    },
    "kernelspec": {
      "name": "python3",
      "display_name": "Python 3"
    },
    "accelerator": "GPU"
  },
  "cells": [
    {
      "cell_type": "code",
      "metadata": {
        "id": "S4tvdwcHNHru",
        "colab_type": "code",
        "colab": {
          "base_uri": "https://localhost:8080/",
          "height": 122
        },
        "outputId": "6383e612-1c47-4d89-c826-9ed611726cf2"
      },
      "source": [
        "from google.colab import drive\n",
        "drive.mount(\"/content/drive\", force_remount=True)"
      ],
      "execution_count": 1,
      "outputs": [
        {
          "output_type": "stream",
          "text": [
            "Go to this URL in a browser: https://accounts.google.com/o/oauth2/auth?client_id=947318989803-6bn6qk8qdgf4n4g3pfee6491hc0brc4i.apps.googleusercontent.com&redirect_uri=urn%3aietf%3awg%3aoauth%3a2.0%3aoob&response_type=code&scope=email%20https%3a%2f%2fwww.googleapis.com%2fauth%2fdocs.test%20https%3a%2f%2fwww.googleapis.com%2fauth%2fdrive%20https%3a%2f%2fwww.googleapis.com%2fauth%2fdrive.photos.readonly%20https%3a%2f%2fwww.googleapis.com%2fauth%2fpeopleapi.readonly\n",
            "\n",
            "Enter your authorization code:\n",
            "··········\n",
            "Mounted at /content/drive\n"
          ],
          "name": "stdout"
        }
      ]
    },
    {
      "cell_type": "code",
      "metadata": {
        "id": "Z8bUBzzGOh2v",
        "colab_type": "code",
        "colab": {
          "base_uri": "https://localhost:8080/",
          "height": 119
        },
        "outputId": "b25ebc0b-ace4-4bd5-fb9e-32f5599e1382"
      },
      "source": [
        "!ls \"/content/drive/My Drive\"\n",
        "!pip install -q keras"
      ],
      "execution_count": 1,
      "outputs": [
        {
          "output_type": "stream",
          "text": [
            "'10foldRADIO_COVID .ipynb'   CT\t\t\t    own\n",
            " Bangla_Iso\t\t     edit.ipynb\t\t   'RATNet(99.80).ipynb'\n",
            " CBAM_model.ipynb\t     EYE\t\t    Selected_model.ipynb\n",
            " CMATERdb\t\t    'Getting started.pdf'   Untitled0.ipynb\n",
            "'Colab Notebooks'\t     ISI\t\t    Untitled1.ipynb\n",
            " COVID\t\t\t     OCR\n"
          ],
          "name": "stdout"
        }
      ]
    },
    {
      "cell_type": "code",
      "metadata": {
        "id": "0ckuObC7OiPo",
        "colab_type": "code",
        "colab": {
          "base_uri": "https://localhost:8080/",
          "height": 34
        },
        "outputId": "a35d501c-e947-4404-b985-aafbcf2c62a8"
      },
      "source": [
        "# load in libaries\n",
        "import numpy as np # linear algebra\n",
        "import pandas as pd # data processing, CSV file I/O (e.g. pd.read_csv)\n",
        "from keras import models\n",
        "from keras.layers import Dense, Activation, Dropout, Flatten, Input, Conv2D, MaxPooling2D, BatchNormalization,AveragePooling2D\n",
        "from keras import optimizers\n",
        "from keras import layers\n",
        "from keras.preprocessing.image import ImageDataGenerator\n",
        "import matplotlib.pyplot as plt\n",
        "import os\n",
        "weight_decay = 1e-6\n",
        "from keras.regularizers import l2\n",
        "from keras import optimizers\n",
        "from keras.callbacks import ReduceLROnPlateau,EarlyStopping\n",
        "from keras.layers.normalization import BatchNormalization\n",
        "import keras\n",
        "import matplotlib.pyplot as plt\n",
        "from keras.utils import np_utils\n",
        "from keras.models import Sequential, Model, model_from_json\n",
        "from keras.layers import Conv2D, Activation, MaxPool2D, Dropout, Dense, BatchNormalization, Flatten\n",
        "from keras.callbacks import ModelCheckpoint\n",
        "from keras.models import Model, Input\n",
        "from keras.layers import Conv2D, MaxPooling2D, GlobalAveragePooling2D, Activation, Average, Dropout\n",
        "from keras.utils import to_categorical\n",
        "from keras.losses import categorical_crossentropy\n",
        "from keras.callbacks import ModelCheckpoint, TensorBoard\n",
        "from keras.optimizers import Adam\n",
        "from keras.layers.convolutional import Convolution2D, MaxPooling2D, ZeroPadding2D\n",
        "from keras.regularizers import l2\n",
        "from six.moves import cPickle as pickle\n",
        "from keras.layers.convolutional import Convolution2D, MaxPooling2D, ZeroPadding2D\n",
        "# Input data files are available in the \"../input/\" directory.\n",
        "# For example, running this (by clicking run or pressing Shift+Enter) will list the files in the input directory"
      ],
      "execution_count": 2,
      "outputs": [
        {
          "output_type": "stream",
          "text": [
            "Using TensorFlow backend.\n"
          ],
          "name": "stderr"
        }
      ]
    },
    {
      "cell_type": "code",
      "metadata": {
        "id": "yfsau6SQPOyU",
        "colab_type": "code",
        "colab": {
          "base_uri": "https://localhost:8080/",
          "height": 34
        },
        "outputId": "5115c7d1-2856-445b-d18a-95b266f135cd"
      },
      "source": [
        "# Lets load in the data\n",
        "Xtrain = np.load('/content/drive/My Drive/CT/X.npy')\n",
        "Ytrain = np.load('/content/drive/My Drive/CT/Y.npy')\n",
        "\n",
        "print('X shape : {}  Y shape: {}'.format(Xtrain.shape, Ytrain.shape))\n",
        "#print('X shape : {}  Y shape: {}'.format(Xtest.shape, Ytest.shape))"
      ],
      "execution_count": 36,
      "outputs": [
        {
          "output_type": "stream",
          "text": [
            "X shape : (2482, 64, 64, 3)  Y shape: (2482, 2)\n"
          ],
          "name": "stdout"
        }
      ]
    },
    {
      "cell_type": "code",
      "metadata": {
        "id": "iRv2pyYsPR-1",
        "colab_type": "code",
        "colab": {}
      },
      "source": [
        "#create a data generator using Keras image preprocessing\n",
        "datagen = ImageDataGenerator(\n",
        "        featurewise_center=False,  \n",
        "        samplewise_center=False,  \n",
        "        featurewise_std_normalization=False,  \n",
        "        samplewise_std_normalization=False,  \n",
        "        zca_whitening=False,  \n",
        "        rotation_range=10,  \n",
        "        zoom_range = 0.10,  \n",
        "        width_shift_range=0.10,  \n",
        "        height_shift_range=0.10,  \n",
        "        horizontal_flip=False, \n",
        "        vertical_flip=False)"
      ],
      "execution_count": 27,
      "outputs": []
    },
    {
      "cell_type": "code",
      "metadata": {
        "id": "PqZnVAq5PUaG",
        "colab_type": "code",
        "colab": {
          "base_uri": "https://localhost:8080/",
          "height": 85
        },
        "outputId": "5f55d25d-952e-4c92-e46b-3c9f0f3e2e25"
      },
      "source": [
        "from sklearn.model_selection import train_test_split\n",
        "Xtrain, Xtest, Ytrain, Ytest = train_test_split(Xtrain, Ytrain, test_size=.20,shuffle=True,random_state=42)\n",
        "#Xtrain, Xvalid, Ytrain, yvalid = train_test_split(Xtrain, Ytrain, test_size=.10)\n",
        "# add another axis representing grey-scale\n",
        "#Xvalid,Xtest, yvalid,Ytest = train_test_split(Xvalid,yvalid, test_size=0.66)\n",
        "#Xtrain = Xtrain[:,:,:,np.newaxis]\n",
        "#Xvalid = Xvalid[:,:,:,np.newaxis]\n",
        "#test = Xtest[:,:,:,np.newaxis]\n",
        "print(Xtrain.shape)\n",
        "print(Ytrain.shape)\n",
        "print(Xtest.shape)\n",
        "print(Ytest.shape)\n",
        "#print(Xvalid.shape)\n",
        "#print(yvalid.shape)"
      ],
      "execution_count": 37,
      "outputs": [
        {
          "output_type": "stream",
          "text": [
            "(1985, 64, 64, 3)\n",
            "(1985, 2)\n",
            "(497, 64, 64, 3)\n",
            "(497, 2)\n"
          ],
          "name": "stdout"
        }
      ]
    },
    {
      "cell_type": "code",
      "metadata": {
        "id": "QYPDHjqHPXA_",
        "colab_type": "code",
        "colab": {}
      },
      "source": [
        "datagen.fit(Xtrain)\n",
        "#val_datagen.fit(Xvalid)"
      ],
      "execution_count": 29,
      "outputs": []
    },
    {
      "cell_type": "code",
      "metadata": {
        "id": "P5oISIuiOier",
        "colab_type": "code",
        "colab": {}
      },
      "source": [
        "from keras.layers import BatchNormalization\n",
        "from keras.layers import Conv2D\n",
        "from keras.layers import UpSampling2D\n",
        "from keras.layers import Activation\n",
        "from keras.layers import MaxPool2D\n",
        "from keras.layers import Add\n",
        "from keras.layers import Multiply\n",
        "from keras.layers import Lambda\n",
        "\n",
        "\n",
        "def residual_block(input, input_channels=None, output_channels=None, kernel_size=(3, 3), stride=1):\n",
        "    \"\"\"\n",
        "    full pre-activation residual block\n",
        "  
        "    \"\"\"\n",
        "    if output_channels is None:\n",
        "        output_channels = input.get_shape()[-1]\n",
        "    if input_channels is None:\n",
        "        input_channels = output_channels // 4\n",
        "\n",
        "    strides = (stride, stride)\n",
        "    x = Conv2D(input_channels, (1, 1))(input)\n",
        "    x = Activation('relu')(x)\n",
        "    x = BatchNormalization()(x)\n",
        "\n",
        "    x = Conv2D(input_channels, kernel_size, padding='same', strides=stride)(x)\n",
        "    x = Activation('relu')(x)\n",
        "    x = BatchNormalization()(x)\n",
        "\n",
        "\n",
        "    x = Conv2D(output_channels, (1, 1), padding='same')(x)\n",
        "    x = Activation('relu')(x)\n",
        "    x = BatchNormalization()(x)\n",
        "\n",
        "\n",
        "\n",
        "    if input_channels != output_channels or stride != 1:\n",
        "        input = Conv2D(output_channels, (1, 1), padding='same', strides=strides)(input)\n",
        "\n",
        "    x = Add()([x, input])\n",
        "    return x\n",
        "\n",
        "\n",
        "def attention_block(input, input_channels=None, output_channels=None, encoder_depth=1):\n",
        "    \"\"\"\n",
        "    
        "    
        "    \"\"\"\n",
        "\n",
        "    p = 1\n",
        "    t = 1\n",
        "    r = 1\n",
        "\n",
        "    if input_channels is None:\n",
        "        input_channels = input.get_shape()[-1]\n",
        "    if output_channels is None:\n",
        "        output_channels = input_channels\n",
        "\n",
        "    # First Residual Block\n",
        "    for i in range(p):\n",
        "        input = residual_block(input)\n",
        "\n",
        "    # Trunc Branch\n",
        "    output_trunk = input\n",
        "    for i in range(t):\n",
        "        output_trunk = residual_block(output_trunk)\n",
        "\n",
        "    # Soft Mask Branch\n",
        "\n",
        "    ## encoder\n",
        "    ### first down sampling\n",
        "    output_soft_mask = MaxPool2D(padding='same')(input)  # 32x32\n",
        "    for i in range(r):\n",
        "        output_soft_mask = residual_block(output_soft_mask)\n",
        "\n",
        "    skip_connections = []\n",
        "    for i in range(encoder_depth - 1):\n",
        "\n",
        "        ## skip connections\n",
        "        output_skip_connection = residual_block(output_soft_mask)\n",
        "        skip_connections.append(output_skip_connection)\n",
        "        # print ('skip shape:', output_skip_connection.get_shape())\n",
        "\n",
        "        ## down sampling\n",
        "        output_soft_mask = MaxPool2D(padding='same')(output_soft_mask)\n",
        "        for _ in range(r):\n",
        "            output_soft_mask = residual_block(output_soft_mask)\n",
        "\n",
        "            ## decoder\n",
        "    skip_connections = list(reversed(skip_connections))\n",
        "    for i in range(encoder_depth - 1):\n",
        "        ## upsampling\n",
        "        for _ in range(r):\n",
        "            output_soft_mask = residual_block(output_soft_mask)\n",
        "        output_soft_mask = UpSampling2D()(output_soft_mask)\n",
        "        ## skip connections\n",
        "        output_soft_mask = Add()([output_soft_mask, skip_connections[i]])\n",
        "\n",
        "    ### last upsampling\n",
        "    for i in range(r):\n",
        "        output_soft_mask = residual_block(output_soft_mask)\n",
        "    output_soft_mask = UpSampling2D()(output_soft_mask)\n",
        "\n",
        "    ## Output\n",
        "    output_soft_mask = Conv2D(input_channels, (1, 1))(output_soft_mask)\n",
        "    output_soft_mask = Conv2D(input_channels, (1, 1))(output_soft_mask)\n",
        "    output_soft_mask = Activation('sigmoid')(output_soft_mask)\n",
        "\n",
        "    # Attention: (1 + output_soft_mask) * output_trunk\n",
        "    output = Lambda(lambda x: x + 1)(output_soft_mask)\n",
        "    output = Multiply()([output, output_trunk])  #\n",
        "\n",
        "    # Last Residual Block\n",
        "    for i in range(p):\n",
        "        output = residual_block(output)\n",
        "\n",
        "    return output"
      ],
      "execution_count": 10,
      "outputs": []
    },
    {
      "cell_type": "code",
      "metadata": {
        "id": "gl40zbrlOjhg",
        "colab_type": "code",
        "colab": {}
      },
      "source": [
        "from keras.layers import Input\n",
        "from keras.layers import Conv2D\n",
        "from keras.layers import MaxPool2D\n",
        "from keras.layers import Dense\n",
        "from keras.layers import AveragePooling2D\n",
        "from keras.layers import Flatten\n",
        "from keras.layers import Activation\n",
        "from keras.layers import BatchNormalization\n",
        "from keras.layers import Dropout\n",
        "from keras.models import Model\n",
        "from keras.regularizers import l2\n",
        "\n",
        "def Covid(shape=(64, 64, 3), n_channels=32, n_classes=2):\n",
        "    \"\"\"\n",
        "    \"\"\"\n",
        "    input_ = Input(shape=shape)\n",
        "    x = Conv2D(n_channels, (3, 3), padding='same')(input_)\n",
        "    x = Activation('relu')(x)\n",
        "    x = BatchNormalization()(x)\n",
        "    x = MaxPool2D(pool_size=(2, 2))(x)  # 16x16\n",
        "\n",
        "    x = residual_block(x, input_channels=64, output_channels=128)\n",
        "    x = attention_block(x, encoder_depth=1)\n",
        "\n",
        "    x = residual_block(x, input_channels=128, output_channels=256, stride=2)  # 8x8\n",
        "    x = attention_block(x, encoder_depth=1)\n",
        "\n",
        "   # x = residual_block(x, input_channels=256, output_channels=256, stride=2)  # 4x4\n",
        "    #x = attention_block(x, encoder_depth=1)\n",
        "\n",
        "  #  x = residual_block(x, input_channels=512, output_channels=1024)\n",
        "   # x = residual_block(x, input_channels=1024, output_channels=1024)\n",
        "   # x = residual_block(x, input_channels=1024, output_channels=1024)\n",
        "\n",
        "    x = AveragePooling2D(pool_size=(2, 2), strides=(2, 2))(x)  # 1x1\n",
        "    x = Flatten()(x)\n",
        "    x=Dense(256,activation='relu')(x)\n",
        "    x = Dropout(0.2)(x)\n",
        "    output = Dense(n_classes, activation='softmax')(x)\n",
        "\n",
        "    model = Model(input_, output)\n",
        "    return model"
      ],
      "execution_count": 11,
      "outputs": []
    },
    {
      "cell_type": "code",
      "metadata": {
        "id": "t1tKrSitSLyI",
        "colab_type": "code",
        "colab": {}
      },
      "source": [
        "\n",
        "import numpy as np\n",
        "from tqdm import tqdm\n",
        "import matplotlib.pyplot as plt\n",
        "%matplotlib inline\n",
        "\n",
        "from PIL import Image\n",
        "#from albumentations import *\n",
        "from skimage.transform import resize\n",
        "\n",
        "from sklearn.model_selection import KFold, train_test_split\n",
        "from sklearn.metrics import confusion_matrix, classification_report, precision_recall_fscore_support, accuracy_score\n",
        "\n",
        "from keras.layers import *\n",
        "from keras.callbacks import *\n",
        "from keras.optimizers import *\n",
        "from keras.models import load_model, Model\n",
        "import tensorflow as tf\n",
        "from keras import backend as K\n",
        "modell = Covid()\n",
        "modell.summary()\n",
        "\n",
        "from keras.optimizers import Adam\n",
        "def compile_and_train(model, num_epochs):\n",
        "    model.compile(loss='categorical_crossentropy', optimizer='adam', metrics=['accuracy'])\n",
        "    checkPoint = ModelCheckpoint(filepath='/content/drive/My Drive/CT/Test/Model_weights.hdf5', verbose=1, save_best_only=True,monitor='val_accuracy',mode='max')\n",
        "    earlystopping = EarlyStopping(monitor='val_loss',\n",
        "                              patience=200,\n",
        "                              verbose=1,\n",
        "                              mode='min',\n",
        "                              restore_best_weights=True)\n",
        "    lr_reduce = ReduceLROnPlateau(monitor='val_loss',mode='min', factor=0.75, epsilon=0.0001, patience=6, verbose=1)    \n",
        "    history = model.fit_generator(datagen.flow(Xtrain, Ytrain, batch_size=128),\n",
        "                 epochs=num_epochs,verbose=2,\n",
        "                 steps_per_epoch=64,\n",
        "                 shuffle=True,\n",
        "                 callbacks=[checkPoint,lr_reduce,earlystopping],\n",
        "                 validation_data=(Xtest, Ytest)\n",
        "                  )\n",
        "\n",
        "    #model.save_weights('/content/drive/My Drive/CMATERdb/iso_32/Test/ISo_32.hdf5')\n",
        "    model.save('/content/drive/My Drive/CT/CT_COVID.h5')\n",
        "    return history\n",
        "                       \n",
        "s1=compile_and_train(modell,200)\n",
        "score=s1.model.evaluate(Xtest, Ytest)\n",
        "print('Loss: {:.4f}  Accuaracy: {:.4}%'.format(score[0],score[1]*100))\n",
        "\n"
      ],
      "execution_count": null,
      "outputs": []
    },
    {
      "cell_type": "code",
      "metadata": {
        "id": "726pVF8D_U_l",
        "colab_type": "code",
        "colab": {
          "base_uri": "https://localhost:8080/",
          "height": 51
        },
        "outputId": "f0cba5f7-03ab-4995-e387-fab245c3cef0"
      },
      "source": [
        "# Save and load model_weights\n",
        "\n",
        "from tensorflow.keras.models import load_model\n",
        "model = load_model('/content/drive/My Drive/CT/Model/Covid_model.h5')\n",
        "score=model.evaluate(Xtest, Ytest,batch_size=128)\n",
        "print('Loss: {:.4f}  Accuaracy: {:.4}%'.format(score[0],score[1]*100))"
      ],
      "execution_count": 38,
      "outputs": [
        {
          "output_type": "stream",
          "text": [
            "4/4 [==============================] - 0s 67ms/step - loss: 0.0066 - accuracy: 0.9980\n",
            "Loss: 0.0066  Accuaracy: 99.8%\n"
          ],
          "name": "stdout"
        }
      ]
    },
    {
      "cell_type": "code",
      "metadata": {
        "id": "5jbNKYzPwRtl",
        "colab_type": "code",
        "colab": {
          "base_uri": "https://localhost:8080/",
          "height": 588
        },
        "outputId": "2fabf345-0d4e-48cd-c6b2-d067db27f535"
      },
      "source": [
        "from sklearn.metrics import f1_score,precision_score,recall_score,roc_auc_score,roc_curve,accuracy_score,classification_report\n",
        "\n",
        "\n",
        "y_pred = model.predict(Xtest)\n",
        "y_pred = np.argmax(y_pred, axis=1)\n",
        "y_true = np.argmax(Ytest, axis=1)\n",
        "\n",
        "#accuracy\n",
        "accuracy = accuracy_score(y_true, y_pred)\n",
        "print('accuracy: ', accuracy)\n",
        "\n",
        "#f1_score\n",
        "f1 = f1_score(y_true, y_pred,average='binary')\n",
        "print('f1: ', f1)\n",
        "\n",
        "# recall_score\n",
        "recall = recall_score(y_true, y_pred, average='binary')\n",
        "print('recall: ', recall)\n",
        "\n",
        "#precision_score\n",
        "precision = precision_score(y_true, y_pred, average='binary')\n",
        "print('precision: ', precision) \n",
        "\n",
        "auc = roc_auc_score(y_true, y_pred)\n",
        "print('auc: ', auc)\n",
        "\n",
        "print(classification_report(y_true, y_pred, target_names= ['COVID','Non_COVID']))\n",
        "\n",
        "\n",
        "\n",
        "fpr, tpr, thresholds = roc_curve(y_true, y_pred, pos_label=1)\n",
        "\n",
        "plt.figure(figsize=(5,5))\n",
        "plt.plot(fpr,tpr,color='red',linewidth=3,label='AUC (area:%0.4f)'%auc)  \n",
        "plt.plot([0, 1], [0, 1], color='black',linewidth=2, linestyle='--')  \n",
        "plt.xlim([0, 1])  \n",
        "plt.ylim([0, 1])  \n",
        "plt.xlabel('False Positive Rate')  \n",
        "plt.ylabel('True Positive Rate')  \n",
        "plt.title('ROC')  \n",
        "plt.legend(loc=\"lower right\")      \n",
        "plt.show()"
      ],
      "execution_count": 39,
      "outputs": [
        {
          "output_type": "stream",
          "text": [
            "accuracy:  0.9979879275653923\n",
            "f1:  0.9980657640232108\n",
            "recall:  1.0\n",
            "precision:  0.9961389961389961\n",
            "auc:  0.997907949790795\n",
            "              precision    recall  f1-score   support\n",
            "\n",
            "       COVID       1.00      1.00      1.00       239\n",
            "   Non_COVID       1.00      1.00      1.00       258\n",
            "\n",
            "    accuracy                           1.00       497\n",
            "   macro avg       1.00      1.00      1.00       497\n",
            "weighted avg       1.00      1.00      1.00       497\n",
            "\n"
          ],
          "name": "stdout"
        },
        {
          "output_type": "display_data",
          "data": {
            "image/png": "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\n",
            "text/plain": [
              "<Figure size 360x360 with 1 Axes>"
            ]
          },
          "metadata": {
            "tags": [],
            "needs_background": "light"
          }
        }
      ]
    },
    {
      "cell_type": "code",
      "metadata": {
        "id": "B2O9BOj_aoaH",
        "colab_type": "code",
        "colab": {
          "base_uri": "https://localhost:8080/",
          "height": 221
        },
        "outputId": "e270ecd8-bffb-46d0-fff0-581903b8d6d1"
      },
      "source": [
        "from sklearn.metrics import classification_report,precision_score,recall_score,accuracy_score,f1_score\n",
        "yhat_probs = s1.model.predict(Xtest)\n",
        "yhat_classes = np.argmax(yhat_probs, axis=1)\n",
        "Y_real = np.argmax(Ytest, axis=1)\n",
        "print(\"recall : \",recall_score(Y_real,yhat_classes, average='macro'))\n",
        "print(\"precision : \", precision_score(Y_real, yhat_classes, average='macro'))\n",
        "print(\"f1 score: \",f1_score(Y_real, yhat_classes , average='macro'))\n",
        "\n",
        "print(classification_report(Y_real, yhat_classes))"
      ],
      "execution_count": null,
      "outputs": [
        {
          "output_type": "stream",
          "text": [
            "recall :  0.9029796511627908\n",
            "precision :  0.8943812233285917\n",
            "f1 score:  0.8928571428571428\n",
            "              precision    recall  f1-score   support\n",
            "\n",
            "           0       0.82      0.97      0.89        32\n",
            "           1       0.97      0.84      0.90        43\n",
            "\n",
            "    accuracy                           0.89        75\n",
            "   macro avg       0.89      0.90      0.89        75\n",
            "weighted avg       0.91      0.89      0.89        75\n",
            "\n"
          ],
          "name": "stdout"
        }
      ]
    },
    {
      "cell_type": "code",
      "metadata": {
        "id": "uiarFZmuLq__",
        "colab_type": "code",
        "colab": {}
      },
      "source": [
        ""
      ],
      "execution_count": null,
      "outputs": []
    }
  ]
}
